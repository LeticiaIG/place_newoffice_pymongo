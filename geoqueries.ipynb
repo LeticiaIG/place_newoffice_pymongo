{
 "cells": [
  {
   "cell_type": "code",
   "execution_count": 151,
   "metadata": {},
   "outputs": [],
   "source": [
    "from pymongo import MongoClient\n",
    "import json\n",
    "import pandas as pd\n",
    "import requests\n",
    "from pandas import DataFrame\n",
    "import numpy as np\n",
    "import googlemaps\n",
    "import pprint\n",
    "import time\n",
    "import requests\n",
    "import folium\n",
    "from folium import plugins\n",
    "\n",
    "import os\n",
    "from dotenv import load_dotenv\n",
    "load_dotenv()\n",
    "key = os.getenv(\"G_CLOUD_API_KEY\")"
   ]
  },
  {
   "cell_type": "code",
   "execution_count": 152,
   "metadata": {},
   "outputs": [],
   "source": [
    "client = MongoClient('mongodb://localhost:27017/')\n",
    "db = client.companies"
   ]
  },
  {
   "cell_type": "code",
   "execution_count": 153,
   "metadata": {},
   "outputs": [
    {
     "data": {
      "text/html": [
       "<div>\n",
       "<style scoped>\n",
       "    .dataframe tbody tr th:only-of-type {\n",
       "        vertical-align: middle;\n",
       "    }\n",
       "\n",
       "    .dataframe tbody tr th {\n",
       "        vertical-align: top;\n",
       "    }\n",
       "\n",
       "    .dataframe thead th {\n",
       "        text-align: right;\n",
       "    }\n",
       "</style>\n",
       "<table border=\"1\" class=\"dataframe\">\n",
       "  <thead>\n",
       "    <tr style=\"text-align: right;\">\n",
       "      <th></th>\n",
       "      <th>_id</th>\n",
       "      <th>geometry</th>\n",
       "      <th>name</th>\n",
       "    </tr>\n",
       "  </thead>\n",
       "  <tbody>\n",
       "    <tr>\n",
       "      <th>0</th>\n",
       "      <td>55cb9c666c522cafdb053a1a</td>\n",
       "      <td>{'coordinates': [[[-73.94193078816193, 40.7007...</td>\n",
       "      <td>Bedford</td>\n",
       "    </tr>\n",
       "    <tr>\n",
       "      <th>1</th>\n",
       "      <td>55cb9c666c522cafdb053a1b</td>\n",
       "      <td>{'coordinates': [[[-73.94732672160579, 40.6291...</td>\n",
       "      <td>Midwood</td>\n",
       "    </tr>\n",
       "    <tr>\n",
       "      <th>2</th>\n",
       "      <td>55cb9c666c522cafdb053a1c</td>\n",
       "      <td>{'coordinates': [[[-73.89138023380261, 40.8617...</td>\n",
       "      <td>Fordham South</td>\n",
       "    </tr>\n",
       "  </tbody>\n",
       "</table>\n",
       "</div>"
      ],
      "text/plain": [
       "                        _id  \\\n",
       "0  55cb9c666c522cafdb053a1a   \n",
       "1  55cb9c666c522cafdb053a1b   \n",
       "2  55cb9c666c522cafdb053a1c   \n",
       "\n",
       "                                            geometry           name  \n",
       "0  {'coordinates': [[[-73.94193078816193, 40.7007...        Bedford  \n",
       "1  {'coordinates': [[[-73.94732672160579, 40.6291...        Midwood  \n",
       "2  {'coordinates': [[[-73.89138023380261, 40.8617...  Fordham South  "
      ]
     },
     "execution_count": 153,
     "metadata": {},
     "output_type": "execute_result"
    }
   ],
   "source": [
    "#cleaned_companies\n",
    "companies = pd.DataFrame(list(db.companies_coor.find({'$and':[{'founded_year':{ \"$ne\" : None }},\n",
    "                                                              {'latitud':{ \"$ne\" : None }}]},{\"products\":0,\n",
    "                                                                                        \"twitter_username\":0,\n",
    "                                                      \"level_0\":0,\"_id\":0, \"founded_day\":0, \"founded_month\":0}\n",
    "                                                    )))\n",
    "\n",
    "#cleaned_neighbors (for the moment working with NY neighbors)\n",
    "neighbors = pd.DataFrame(list(db.neighborhood.find({})))\n",
    "neighbors.head(3)"
   ]
  },
  {
   "cell_type": "code",
   "execution_count": 154,
   "metadata": {},
   "outputs": [
    {
     "data": {
      "text/html": [
       "<div>\n",
       "<style scoped>\n",
       "    .dataframe tbody tr th:only-of-type {\n",
       "        vertical-align: middle;\n",
       "    }\n",
       "\n",
       "    .dataframe tbody tr th {\n",
       "        vertical-align: top;\n",
       "    }\n",
       "\n",
       "    .dataframe thead th {\n",
       "        text-align: right;\n",
       "    }\n",
       "</style>\n",
       "<table border=\"1\" class=\"dataframe\">\n",
       "  <thead>\n",
       "    <tr style=\"text-align: right;\">\n",
       "      <th></th>\n",
       "      <th>index</th>\n",
       "      <th>name</th>\n",
       "      <th>category_code</th>\n",
       "      <th>founded_year</th>\n",
       "      <th>money_raised</th>\n",
       "      <th>latitud</th>\n",
       "      <th>longitud</th>\n",
       "      <th>city</th>\n",
       "      <th>location</th>\n",
       "    </tr>\n",
       "  </thead>\n",
       "  <tbody>\n",
       "    <tr>\n",
       "      <th>0</th>\n",
       "      <td>7</td>\n",
       "      <td>StumbleUpon</td>\n",
       "      <td>web</td>\n",
       "      <td>2002.0</td>\n",
       "      <td>1.85e+07</td>\n",
       "      <td>37.775196</td>\n",
       "      <td>-122.419204</td>\n",
       "      <td>San Francisco</td>\n",
       "      <td>{'type': 'Point', 'coordinates': [-122.419204,...</td>\n",
       "    </tr>\n",
       "    <tr>\n",
       "      <th>1</th>\n",
       "      <td>3</td>\n",
       "      <td>Geni</td>\n",
       "      <td>web</td>\n",
       "      <td>2006.0</td>\n",
       "      <td>1.65e+07</td>\n",
       "      <td>34.090368</td>\n",
       "      <td>-118.393064</td>\n",
       "      <td>West Hollywood</td>\n",
       "      <td>{'type': 'Point', 'coordinates': [-118.393064,...</td>\n",
       "    </tr>\n",
       "    <tr>\n",
       "      <th>2</th>\n",
       "      <td>9</td>\n",
       "      <td>Slacker</td>\n",
       "      <td>music</td>\n",
       "      <td>2006.0</td>\n",
       "      <td>7.31e+07</td>\n",
       "      <td>33.022176</td>\n",
       "      <td>-117.081406</td>\n",
       "      <td>San Diego</td>\n",
       "      <td>{'type': 'Point', 'coordinates': [-117.081406,...</td>\n",
       "    </tr>\n",
       "  </tbody>\n",
       "</table>\n",
       "</div>"
      ],
      "text/plain": [
       "   index         name category_code  founded_year money_raised    latitud  \\\n",
       "0      7  StumbleUpon           web        2002.0     1.85e+07  37.775196   \n",
       "1      3         Geni           web        2006.0     1.65e+07  34.090368   \n",
       "2      9      Slacker         music        2006.0     7.31e+07  33.022176   \n",
       "\n",
       "     longitud            city  \\\n",
       "0 -122.419204   San Francisco   \n",
       "1 -118.393064  West Hollywood   \n",
       "2 -117.081406       San Diego   \n",
       "\n",
       "                                            location  \n",
       "0  {'type': 'Point', 'coordinates': [-122.419204,...  \n",
       "1  {'type': 'Point', 'coordinates': [-118.393064,...  \n",
       "2  {'type': 'Point', 'coordinates': [-117.081406,...  "
      ]
     },
     "execution_count": 154,
     "metadata": {},
     "output_type": "execute_result"
    }
   ],
   "source": [
    "companies.rename(index=str, columns={\"currency_n\": \"money_raised\"}, inplace=True)\n",
    "companies = companies[[\"index\",\"name\",\"category_code\",\"founded_year\",\n",
    "                       \"money_raised\",\"latitud\",\"longitud\",\"city\",\"location\"]]\n",
    "companies.head(3)"
   ]
  },
  {
   "cell_type": "markdown",
   "metadata": {},
   "source": [
    "def findNear(geopoint, radio_max_meters=200):\n",
    "    return db.companies_coor.find({\n",
    "        \"location\": {\n",
    "         \"$near\": {\n",
    "           \"$geometry\": geopoint,\n",
    "           \"$maxDistance\": radio_max_meters,\n",
    "         }\n",
    "       }\n",
    "    })\n",
    "geopoint = {\n",
    "    \"type\":\"Point\",\n",
    "    \"coordinates\":[-73.987308,40.738935]  #NY, 133 offices\n",
    "}\n",
    "city = \"city\"\n",
    "radio_max_meters = 1000\n",
    "num_offices = findNear(geopoint, 1000).count()\n",
    "print(f\"Hay {num_offices} oficinas cerca de {city} a {radio_max_meters} metros\")"
   ]
  },
  {
   "cell_type": "code",
   "execution_count": 155,
   "metadata": {},
   "outputs": [],
   "source": [
    "#Ranking weighted averages:\n",
    "    # 1   category_code\n",
    "    # 2   closest companies\n",
    "    # 3   founded year < 10  "
   ]
  },
  {
   "cell_type": "code",
   "execution_count": 156,
   "metadata": {},
   "outputs": [],
   "source": [
    "#Ranking weighted averages   #1   category_code\n",
    "def pondera_v(cat): \n",
    "    suma = 0\n",
    "    if cat == \"games_video\":\n",
    "        suma = 4\n",
    "    if cat == \"web\":\n",
    "        suma = 3\n",
    "    if cat == \"music\":\n",
    "        suma == 2\n",
    "    return suma\n",
    "companies ['wa_category'] = companies[\"category_code\"].apply(pondera_v)"
   ]
  },
  {
   "cell_type": "code",
   "execution_count": 159,
   "metadata": {},
   "outputs": [],
   "source": [
    "#Ranking weighted averages   #2   closest companies\n",
    "\n",
    "def findNear(geopoint, radio_max_meters=200):\n",
    "    return db.companies_coor.find({\n",
    "        \"location\": {\n",
    "         \"$near\": {\n",
    "           \"$geometry\": geopoint,\n",
    "           \"$maxDistance\": radio_max_meters,\n",
    "         }\n",
    "       }\n",
    "    })\n",
    "\n",
    "def findNear_category(df, radio_max_meters=1000):\n",
    "    #filter by city if desired\n",
    "    #city = input(\" Enter city: \")\n",
    "    #df_filtered = df[df['city']==city]\n",
    "    \n",
    "    lstng = []\n",
    "    for row in range(len(df)):\n",
    "        geopoint = df.location.iloc[row]\n",
    "        \n",
    "        #sort by closest companies from loc  \n",
    "        lst = len(list(findNear(geopoint,)))\n",
    "        lstng.append(lst)\n",
    "        df_overSF=pd.DataFrame(lstng)\n",
    "    return lstng, df_overSF\n",
    "\n",
    "lstng_a, df_overSF = (findNear_category(companies))\n",
    "# Group by “source”, and count the total number of “source”"
   ]
  },
  {
   "cell_type": "code",
   "execution_count": 160,
   "metadata": {},
   "outputs": [
    {
     "data": {
      "text/html": [
       "<div>\n",
       "<style scoped>\n",
       "    .dataframe tbody tr th:only-of-type {\n",
       "        vertical-align: middle;\n",
       "    }\n",
       "\n",
       "    .dataframe tbody tr th {\n",
       "        vertical-align: top;\n",
       "    }\n",
       "\n",
       "    .dataframe thead th {\n",
       "        text-align: right;\n",
       "    }\n",
       "</style>\n",
       "<table border=\"1\" class=\"dataframe\">\n",
       "  <thead>\n",
       "    <tr style=\"text-align: right;\">\n",
       "      <th></th>\n",
       "      <th>0</th>\n",
       "    </tr>\n",
       "  </thead>\n",
       "  <tbody>\n",
       "    <tr>\n",
       "      <th>0</th>\n",
       "      <td>59</td>\n",
       "    </tr>\n",
       "    <tr>\n",
       "      <th>1</th>\n",
       "      <td>1</td>\n",
       "    </tr>\n",
       "    <tr>\n",
       "      <th>2</th>\n",
       "      <td>1</td>\n",
       "    </tr>\n",
       "    <tr>\n",
       "      <th>3</th>\n",
       "      <td>19</td>\n",
       "    </tr>\n",
       "    <tr>\n",
       "      <th>4</th>\n",
       "      <td>39</td>\n",
       "    </tr>\n",
       "  </tbody>\n",
       "</table>\n",
       "</div>"
      ],
      "text/plain": [
       "    0\n",
       "0  59\n",
       "1   1\n",
       "2   1\n",
       "3  19\n",
       "4  39"
      ]
     },
     "execution_count": 160,
     "metadata": {},
     "output_type": "execute_result"
    }
   ],
   "source": [
    "#df_overSF = df_overSF.reset_index(drop=True)\n",
    "df_overSF.head()"
   ]
  },
  {
   "cell_type": "code",
   "execution_count": 161,
   "metadata": {
    "scrolled": true
   },
   "outputs": [
    {
     "data": {
      "text/html": [
       "<div>\n",
       "<style scoped>\n",
       "    .dataframe tbody tr th:only-of-type {\n",
       "        vertical-align: middle;\n",
       "    }\n",
       "\n",
       "    .dataframe tbody tr th {\n",
       "        vertical-align: top;\n",
       "    }\n",
       "\n",
       "    .dataframe thead th {\n",
       "        text-align: right;\n",
       "    }\n",
       "</style>\n",
       "<table border=\"1\" class=\"dataframe\">\n",
       "  <thead>\n",
       "    <tr style=\"text-align: right;\">\n",
       "      <th></th>\n",
       "      <th>index</th>\n",
       "      <th>name</th>\n",
       "      <th>category_code</th>\n",
       "      <th>founded_year</th>\n",
       "      <th>money_raised</th>\n",
       "      <th>latitud</th>\n",
       "      <th>longitud</th>\n",
       "      <th>city</th>\n",
       "      <th>location</th>\n",
       "      <th>wa_category</th>\n",
       "    </tr>\n",
       "  </thead>\n",
       "  <tbody>\n",
       "    <tr>\n",
       "      <th>0</th>\n",
       "      <td>7</td>\n",
       "      <td>StumbleUpon</td>\n",
       "      <td>web</td>\n",
       "      <td>2002</td>\n",
       "      <td>1.85e+07</td>\n",
       "      <td>37.775196</td>\n",
       "      <td>-122.419204</td>\n",
       "      <td>San Francisco</td>\n",
       "      <td>{'type': 'Point', 'coordinates': [-122.419204,...</td>\n",
       "      <td>3</td>\n",
       "    </tr>\n",
       "    <tr>\n",
       "      <th>1</th>\n",
       "      <td>3</td>\n",
       "      <td>Geni</td>\n",
       "      <td>web</td>\n",
       "      <td>2006</td>\n",
       "      <td>1.65e+07</td>\n",
       "      <td>34.090368</td>\n",
       "      <td>-118.393064</td>\n",
       "      <td>West Hollywood</td>\n",
       "      <td>{'type': 'Point', 'coordinates': [-118.393064,...</td>\n",
       "      <td>3</td>\n",
       "    </tr>\n",
       "  </tbody>\n",
       "</table>\n",
       "</div>"
      ],
      "text/plain": [
       "   index         name category_code  founded_year money_raised    latitud  \\\n",
       "0      7  StumbleUpon           web          2002     1.85e+07  37.775196   \n",
       "1      3         Geni           web          2006     1.65e+07  34.090368   \n",
       "\n",
       "     longitud            city  \\\n",
       "0 -122.419204   San Francisco   \n",
       "1 -118.393064  West Hollywood   \n",
       "\n",
       "                                            location  wa_category  \n",
       "0  {'type': 'Point', 'coordinates': [-122.419204,...            3  \n",
       "1  {'type': 'Point', 'coordinates': [-118.393064,...            3  "
      ]
     },
     "execution_count": 161,
     "metadata": {},
     "output_type": "execute_result"
    }
   ],
   "source": [
    "companies[\"founded_year\"] = companies[\"founded_year\"].astype(int)\n",
    "companies.head(2)"
   ]
  },
  {
   "cell_type": "code",
   "execution_count": 162,
   "metadata": {},
   "outputs": [],
   "source": [
    "#Ranking weighted averages   #3   founded year\n",
    "\n",
    "def find_founded_year(df, radio_max_meters=2000):\n",
    "    lista=[]\n",
    "    for row in range(len(df)): \n",
    "        old=db.companies_coor.find({'$and':[{\n",
    "                                    \"location\": {\n",
    "                                     \"$near\": {\n",
    "                                       \"$geometry\": df[row],\n",
    "                                       \"$maxDistance\": radio_max_meters,\n",
    "                                     }\n",
    "                                   }\n",
    "                                },\n",
    "        {\"founded_year\": {\"$gt\":2003}\n",
    "        }]})\n",
    "                                \n",
    "        df_=pd.DataFrame(old)\n",
    "        lista.append(len(df_))\n",
    "        df_founded=pd.DataFrame(lista)\n",
    "    return lista,df_founded\n",
    "\n",
    "lista, df_f_year = find_founded_year(companies['location'], 2000)"
   ]
  },
  {
   "cell_type": "code",
   "execution_count": 163,
   "metadata": {},
   "outputs": [
    {
     "data": {
      "text/html": [
       "<div>\n",
       "<style scoped>\n",
       "    .dataframe tbody tr th:only-of-type {\n",
       "        vertical-align: middle;\n",
       "    }\n",
       "\n",
       "    .dataframe tbody tr th {\n",
       "        vertical-align: top;\n",
       "    }\n",
       "\n",
       "    .dataframe thead th {\n",
       "        text-align: right;\n",
       "    }\n",
       "</style>\n",
       "<table border=\"1\" class=\"dataframe\">\n",
       "  <thead>\n",
       "    <tr style=\"text-align: right;\">\n",
       "      <th></th>\n",
       "      <th>0</th>\n",
       "    </tr>\n",
       "  </thead>\n",
       "  <tbody>\n",
       "    <tr>\n",
       "      <th>0</th>\n",
       "      <td>139</td>\n",
       "    </tr>\n",
       "    <tr>\n",
       "      <th>1</th>\n",
       "      <td>7</td>\n",
       "    </tr>\n",
       "    <tr>\n",
       "      <th>2</th>\n",
       "      <td>2</td>\n",
       "    </tr>\n",
       "    <tr>\n",
       "      <th>3</th>\n",
       "      <td>245</td>\n",
       "    </tr>\n",
       "    <tr>\n",
       "      <th>4</th>\n",
       "      <td>203</td>\n",
       "    </tr>\n",
       "  </tbody>\n",
       "</table>\n",
       "</div>"
      ],
      "text/plain": [
       "     0\n",
       "0  139\n",
       "1    7\n",
       "2    2\n",
       "3  245\n",
       "4  203"
      ]
     },
     "execution_count": 163,
     "metadata": {},
     "output_type": "execute_result"
    }
   ],
   "source": [
    "df_f_year.head()"
   ]
  },
  {
   "cell_type": "code",
   "execution_count": 164,
   "metadata": {},
   "outputs": [],
   "source": [
    "companies.reset_index(drop=True, inplace=True)\n",
    "df_overSF.reset_index(drop=True, inplace=True)\n",
    "df_f_year.reset_index(drop=True, inplace=True)"
   ]
  },
  {
   "cell_type": "code",
   "execution_count": 165,
   "metadata": {},
   "outputs": [],
   "source": [
    "compan = pd.concat([companies,df_overSF,df_f_year], axis=1, ignore_index=False)"
   ]
  },
  {
   "cell_type": "code",
   "execution_count": 180,
   "metadata": {},
   "outputs": [],
   "source": [
    "compan['total'] = compan.iloc[:, -4:-1].sum(axis=1)\n",
    "compan.sort_values(by=['average'], ascending=False)"
   ]
  },
  {
   "cell_type": "code",
   "execution_count": 196,
   "metadata": {
    "scrolled": true
   },
   "outputs": [
    {
     "data": {
      "text/html": [
       "<div style=\"width:100%;\"><div style=\"position:relative;width:100%;height:0;padding-bottom:60%;\"><iframe src=\"data:text/html;charset=utf-8;base64,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\" style=\"position:absolute;width:100%;height:100%;left:0;top:0;border:none !important;\" allowfullscreen webkitallowfullscreen mozallowfullscreen></iframe></div></div>"
      ],
      "text/plain": [
       "<folium.folium.Map at 0x12276ee80>"
      ]
     },
     "execution_count": 196,
     "metadata": {},
     "output_type": "execute_result"
    }
   ],
   "source": [
    "mapa = folium.Map([20,-20], zoom_start=1.5)\n",
    "location = compan[['latitud', 'longitud']].head(200).values\n",
    "mapa.add_child(plugins.HeatMap(location, radius=15))\n",
    "mapa"
   ]
  },
  {
   "cell_type": "code",
   "execution_count": null,
   "metadata": {},
   "outputs": [],
   "source": [
    "                                                        #       MEDIR DISTANCIAS   ---- LATER ON\n",
    "def distances_c(df,radio_max_meters=10000):  \n",
    "    lista = []\n",
    "    for i in range(len(df)):\n",
    "        a=db.companies_coor.aggregate([\n",
    "        { \"$geoNear\": {\n",
    "            \"near\": {                    # near: The point for which to find the closest documents.\n",
    "                \"$geoemtry\": df[i]\n",
    "            }, \n",
    "            \"maxDistance\": radio_max_meters,    #The maximum distance from the center point that the documents can be\n",
    "            \"spherical\": False,\n",
    "            \"distanceField\": \"distance\" , # The output field that contains the calculated distance.\n",
    "            \"query\": { \"category_code\": \"web\"},\n",
    "            \"num\": 1,\n",
    "        }}\n",
    "        ])\n",
    "        b=pd.DataFrame(a)\n",
    "        lista.append(b)\n",
    "    return lista\n",
    "    \n",
    "    \n",
    "distances = list(distances_c(companies,))\n",
    "print(distances)"
   ]
  },
  {
   "cell_type": "code",
   "execution_count": null,
   "metadata": {},
   "outputs": [],
   "source": [
    "# https://developers.google.com/places/web-service/search"
   ]
  },
  {
   "cell_type": "code",
   "execution_count": null,
   "metadata": {},
   "outputs": [],
   "source": [
    "# GOOGLEPLACES --- \n",
    "def get_lat_long_places(name):   # name as bus stops\n",
    "    try:\n",
    "        query = \"{}\".format(name)\n",
    "        print(query)\n",
    "        # location format :   -33.8670522,151.1957362  tengo que meter latitud, longitud\n",
    "        url = \"https://maps.googleapis.com/maps/api/place/nearbysearch/json?location={},{}&radius={}&type=restaurant&keyword=cruise&key={}\".format(latitud,longitud,radius,key)\n",
    "        response = requests.get(url)\n",
    "        data = response.json()\n",
    "        location = data.get('results')[0].get('geometry').get('location')\n",
    "        return{\n",
    "            \"latitud\" : location.get('lat'),\n",
    "            \"longitud\" : location.get('lng')\n",
    "        }\n",
    "    except: \n",
    "        return {\n",
    "            \"latitud\" : None,\n",
    "            \"longitud\" : None\n",
    "        }"
   ]
  },
  {
   "cell_type": "code",
   "execution_count": null,
   "metadata": {},
   "outputs": [],
   "source": [
    "                                            # Future venture:\n",
    "# REQUEST TRAFFIC API\n",
    "    https://traffic.api.here.com/traffic/6.2/flow/xml/8/134/86\n",
    "    ?app_id={YOUR_APP_ID}\n",
    "    &app_code={YOUR_APP_CODE}\n",
    "#https://developer.here.com/documentation/traffic/topics_v6.1/example-flow.html"
   ]
  }
 ],
 "metadata": {
  "kernelspec": {
   "display_name": "Python 3",
   "language": "python",
   "name": "python3"
  },
  "language_info": {
   "codemirror_mode": {
    "name": "ipython",
    "version": 3
   },
   "file_extension": ".py",
   "mimetype": "text/x-python",
   "name": "python",
   "nbconvert_exporter": "python",
   "pygments_lexer": "ipython3",
   "version": "3.7.3"
  }
 },
 "nbformat": 4,
 "nbformat_minor": 2
}
